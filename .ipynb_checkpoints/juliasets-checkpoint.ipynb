{
 "cells": [
  {
   "cell_type": "markdown",
   "metadata": {},
   "source": [
    "# Julia sets of quadratic polynomials"
   ]
  },
  {
   "cell_type": "markdown",
   "metadata": {},
   "source": [
    "The purpose of this notebook is to explore visually some filled-in Julia sets of quadratic polynomials. \n",
    "\n",
    "We begin with a definition. Given $f: \\mathbb{C} \\rightarrow \\mathbb{C}$ such that $f(z) = z^{2} + c$, where $c \\in \\mathbb{C}$, the filled-in Julia set of $f$, denoted by $\\mathcal{K}(f)$ is defined as the set of complex numbers whose orbit remains bounded under iteration:\n",
    "\n",
    "$$ \\mathcal{K}(f) = \\{ z \\in \\mathbb{C} : \\{f^{\\circ n}(z)\\} \\text{  is bounded  } \\} $$\n",
    "\n",
    "If, on the contrary, the orbit of $z$ is unbounded, we say that it belongs to the set $A_{f}(\\infty)$, which is called the basin of attraction to infinity:\n",
    "\n",
    "$$ A_{f}(\\infty) = \\{ z \\in \\mathbb{C} : \\{f^{\\circ n}(z)\\} \\rightarrow \\infty \\} $$\n",
    "\n",
    "We have that the Julia set of $f$, denoted by $\\mathcal{J}(f)$ is the common boundary of these two sets:\n",
    "\n",
    "$$ \\mathcal{J}(f) = \\partial A_{f} (\\infty) = \\partial \\mathcal{K}(f) $$\n",
    "\n",
    "If $\\text{int} ( \\mathcal{K} (f) ) = \\varnothing$, then $\\mathcal{K}(f) = \\mathcal{J}(f)$.\n",
    "In some sense, the Julia set contains points whose neighborhoods, no matter how small, exhibit chaotic behavior under iteration. \n",
    "\n",
    "We now state two useful theorems:\n",
    "\n",
    "**Theorem 1**. The set $A_{f}(\\infty)$ is open, connected and unbounded.\n",
    "\n",
    "**Theorem 2**. Consider $f(z) = z^{2} + c$ and let $z_{0}$ be an arbitrary complex number. Furthermore, let us define the radius $R$ as\n",
    "\n",
    "$$ R = \\frac{1 + \\sqrt{1 + 4|c|}}{2} .$$\n",
    "\n",
    "If, for some $n \\in \\mathbb{N}$ we have $|f^{\\circ n}(z_{0})| > R$, then we can be sure that $ \\{f^{\\circ n}(z_{0})\\} \\rightarrow \\infty $ so that $z_{0} \\in A_{f}(\\infty) $ and $z_{0} \\notin \\mathcal{J}(f)$.\n",
    "\n",
    "\n",
    "We'll use this last theorem to draw some Julia sets.\n"
   ]
  },
  {
   "cell_type": "code",
   "execution_count": 1,
   "metadata": {},
   "outputs": [],
   "source": [
    "import numpy as np\n",
    "import matplotlib.pyplot as plt\n",
    "import matplotlib.cm as cm"
   ]
  },
  {
   "cell_type": "code",
   "execution_count": 1,
   "metadata": {},
   "outputs": [],
   "source": [
    "c = complex(1/4, 0)\n",
    "\n",
    "# We first set the radius of the ball in which K(f) is contained\n",
    "\n",
    "\n",
    "\n",
    "window_width, window_height = 500, 500\n",
    "\n",
    "\n",
    " "
   ]
  },
  {
   "cell_type": "code",
   "execution_count": null,
   "metadata": {},
   "outputs": [],
   "source": []
  }
 ],
 "metadata": {
  "kernelspec": {
   "display_name": "Python 3",
   "language": "python",
   "name": "python3"
  },
  "language_info": {
   "codemirror_mode": {
    "name": "ipython",
    "version": 3
   },
   "file_extension": ".py",
   "mimetype": "text/x-python",
   "name": "python",
   "nbconvert_exporter": "python",
   "pygments_lexer": "ipython3",
   "version": "3.7.1"
  }
 },
 "nbformat": 4,
 "nbformat_minor": 2
}
